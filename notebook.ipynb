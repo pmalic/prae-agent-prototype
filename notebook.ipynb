{
 "cells": [
  {
   "cell_type": "code",
   "execution_count": 1,
   "id": "5884f01a",
   "metadata": {},
   "outputs": [],
   "source": [
    "%reload_ext autoreload\n",
    "%autoreload all\n",
    "\n",
    "import tools"
   ]
  },
  {
   "cell_type": "markdown",
   "id": "1e77449c",
   "metadata": {},
   "source": [
    "### Tool for listing data sources"
   ]
  },
  {
   "cell_type": "code",
   "execution_count": 2,
   "id": "bd84317b",
   "metadata": {},
   "outputs": [
    {
     "data": {
      "text/plain": [
       "[{'name': 'employees',\n",
       "  'description': 'Employees Database',\n",
       "  'type': 'SQLite',\n",
       "  'file': 'employees.sqlite'}]"
      ]
     },
     "execution_count": 2,
     "metadata": {},
     "output_type": "execute_result"
    }
   ],
   "source": [
    "tools.list_data_sources()"
   ]
  },
  {
   "cell_type": "markdown",
   "id": "ec344248",
   "metadata": {},
   "source": [
    "### Tool for describing a data source"
   ]
  },
  {
   "cell_type": "code",
   "execution_count": 3,
   "id": "dfbcc61a",
   "metadata": {},
   "outputs": [
    {
     "name": "stdout",
     "output_type": "stream",
     "text": [
      "# Employee Database\n",
      "\n",
      "This SQLite database contains employee information for a company with the following structure:\n",
      "\n",
      "## Tables\n",
      "\n",
      "### employee\n",
      "**Primary table containing employee personal information**\n",
      "- `emp_no` (INTEGER, PRIMARY KEY): Unique employee number\n",
      "- `birth_date` (DATE): Date of birth\n",
      "- `first_name` (TEXT): Employee's first name\n",
      "- `last_name` (TEXT): Employee's last name\n",
      "- `gender` (TEXT): Gender ('M' or 'F')\n",
      "- `hire_date` (DATE): Date employee was hired\n",
      "\n",
      "### department\n",
      "**Department inf\n",
      "...\n"
     ]
    }
   ],
   "source": [
    "print(tools.describe_data_source('employees')[:500] + '\\n...')"
   ]
  },
  {
   "cell_type": "markdown",
   "id": "80c0d370",
   "metadata": {},
   "source": [
    "### Tool for getting the database schema for SQLite data sources"
   ]
  },
  {
   "cell_type": "code",
   "execution_count": 4,
   "id": "dda1769f",
   "metadata": {},
   "outputs": [
    {
     "name": "stdout",
     "output_type": "stream",
     "text": [
      "-- Tables\n",
      "CREATE TABLE department (\n",
      "    dept_no     TEXT            NOT NULL,\n",
      "    dept_name   TEXT            NOT NULL,\n",
      "    PRIMARY KEY (dept_no),\n",
      "    UNIQUE      (dept_name)\n",
      ");\n",
      "CREATE TABLE dept_emp (\n",
      "    emp_no      INTEGER         NOT NULL,\n",
      "    dept_no     TEXT            NOT NULL,\n",
      "    from_date   DATE            NOT NULL,\n",
      "    to_date     DATE            NOT NULL,\n",
      "    FOREIGN KEY (emp_no)  REFERENCES employee (emp_no)   ON DELETE CASCADE,\n",
      "    FOREIGN KEY (dept_no) REFERENCES department (dept_\n",
      "...\n"
     ]
    }
   ],
   "source": [
    "print(tools.sqlite_get_schema('employees')[:500] + '\\n...')"
   ]
  },
  {
   "cell_type": "markdown",
   "id": "f6d6608c",
   "metadata": {},
   "source": [
    "### Tool for querying a SQLite data source"
   ]
  },
  {
   "cell_type": "code",
   "execution_count": 5,
   "id": "5586439b",
   "metadata": {},
   "outputs": [
    {
     "name": "stdout",
     "output_type": "stream",
     "text": [
      "emp_no | birth_date | first_name | last_name | gender | hire_date\n",
      "-----------------------------------------------------------------\n",
      "10001 | 1953-09-02 | Georgi | Facello | M | 1986-06-26\n",
      "10002 | 1964-06-02 | Bezalel | Simmel | F | 1985-11-21\n",
      "10003 | 1959-12-03 | Parto | Bamford | M | 1986-08-28\n",
      "10004 | 1954-05-01 | Chirstian | Koblick | M | 1986-12-01\n",
      "10005 | 1955-01-21 | Kyoichi | Maliniak | M | 1989-09-12\n",
      "10006 | 1953-04-20 | Anneke | Preusig | F | 1989-06-02\n",
      "10007 | 1957-05-23 | Tzvetan | Zie\n",
      "...\n"
     ]
    }
   ],
   "source": [
    "print(tools.sqlite_query('employees', 'SELECT * from employee')[:500] + '\\n...')"
   ]
  },
  {
   "cell_type": "markdown",
   "id": "88c51685",
   "metadata": {},
   "source": [
    "### Setting up an agent"
   ]
  },
  {
   "cell_type": "code",
   "execution_count": 6,
   "id": "26dbe495",
   "metadata": {},
   "outputs": [],
   "source": [
    "from smolagents import OpenAIServerModel, CodeAgent, ActionStep\n",
    "\n",
    "model = OpenAIServerModel(model_id=\"gpt-4.1-mini\")\n",
    "\n",
    "agent = CodeAgent(\n",
    "    model=model,\n",
    "    tools=[tools.list_data_sources, tools.describe_data_source, tools.sqlite_get_schema, tools.sqlite_query],\n",
    ")\n",
    "\n",
    "def count_action_steps(agent):\n",
    "    \"\"\"Count the number of action steps in an agent's memory.\"\"\"\n",
    "    return sum(1 for step in agent.memory.steps if isinstance(step, ActionStep))"
   ]
  },
  {
   "cell_type": "markdown",
   "id": "0a154c64",
   "metadata": {},
   "source": [
    "### Running the agent with an example question"
   ]
  },
  {
   "cell_type": "code",
   "execution_count": 7,
   "id": "0293f494",
   "metadata": {},
   "outputs": [
    {
     "data": {
      "text/html": [
       "<pre style=\"white-space:pre;overflow-x:auto;line-height:normal;font-family:Menlo,'DejaVu Sans Mono',consolas,'Courier New',monospace\"><span style=\"color: #d4b702; text-decoration-color: #d4b702\">╭──────────────────────────────────────────────────── </span><span style=\"color: #d4b702; text-decoration-color: #d4b702; font-weight: bold\">New run</span><span style=\"color: #d4b702; text-decoration-color: #d4b702\"> ────────────────────────────────────────────────────╮</span>\n",
       "<span style=\"color: #d4b702; text-decoration-color: #d4b702\">│</span>                                                                                                                 <span style=\"color: #d4b702; text-decoration-color: #d4b702\">│</span>\n",
       "<span style=\"color: #d4b702; text-decoration-color: #d4b702\">│</span> <span style=\"font-weight: bold\">Which department has the highest number of employees?</span>                                                           <span style=\"color: #d4b702; text-decoration-color: #d4b702\">│</span>\n",
       "<span style=\"color: #d4b702; text-decoration-color: #d4b702\">│</span>                                                                                                                 <span style=\"color: #d4b702; text-decoration-color: #d4b702\">│</span>\n",
       "<span style=\"color: #d4b702; text-decoration-color: #d4b702\">╰─ OpenAIServerModel - gpt-4.1-mini ──────────────────────────────────────────────────────────────────────────────╯</span>\n",
       "</pre>\n"
      ],
      "text/plain": [
       "\u001b[38;2;212;183;2m╭─\u001b[0m\u001b[38;2;212;183;2m───────────────────────────────────────────────────\u001b[0m\u001b[38;2;212;183;2m \u001b[0m\u001b[1;38;2;212;183;2mNew run\u001b[0m\u001b[38;2;212;183;2m \u001b[0m\u001b[38;2;212;183;2m───────────────────────────────────────────────────\u001b[0m\u001b[38;2;212;183;2m─╮\u001b[0m\n",
       "\u001b[38;2;212;183;2m│\u001b[0m                                                                                                                 \u001b[38;2;212;183;2m│\u001b[0m\n",
       "\u001b[38;2;212;183;2m│\u001b[0m \u001b[1mWhich department has the highest number of employees?\u001b[0m                                                           \u001b[38;2;212;183;2m│\u001b[0m\n",
       "\u001b[38;2;212;183;2m│\u001b[0m                                                                                                                 \u001b[38;2;212;183;2m│\u001b[0m\n",
       "\u001b[38;2;212;183;2m╰─\u001b[0m\u001b[38;2;212;183;2m OpenAIServerModel - gpt-4.1-mini \u001b[0m\u001b[38;2;212;183;2m─────────────────────────────────────────────────────────────────────────────\u001b[0m\u001b[38;2;212;183;2m─╯\u001b[0m\n"
      ]
     },
     "metadata": {},
     "output_type": "display_data"
    },
    {
     "data": {
      "text/html": [
       "<pre style=\"white-space:pre;overflow-x:auto;line-height:normal;font-family:Menlo,'DejaVu Sans Mono',consolas,'Courier New',monospace\"><span style=\"color: #d4b702; text-decoration-color: #d4b702\">━━━━━━━━━━━━━━━━━━━━━━━━━━━━━━━━━━━━━━━━━━━━━━━━━━━━━ </span><span style=\"font-weight: bold\">Step </span><span style=\"color: #008080; text-decoration-color: #008080; font-weight: bold\">1</span><span style=\"color: #d4b702; text-decoration-color: #d4b702\"> ━━━━━━━━━━━━━━━━━━━━━━━━━━━━━━━━━━━━━━━━━━━━━━━━━━━━━━</span>\n",
       "</pre>\n"
      ],
      "text/plain": [
       "\u001b[38;2;212;183;2m━━━━━━━━━━━━━━━━━━━━━━━━━━━━━━━━━━━━━━━━━━━━━━━━━━━━━ \u001b[0m\u001b[1mStep \u001b[0m\u001b[1;36m1\u001b[0m\u001b[38;2;212;183;2m ━━━━━━━━━━━━━━━━━━━━━━━━━━━━━━━━━━━━━━━━━━━━━━━━━━━━━━\u001b[0m\n"
      ]
     },
     "metadata": {},
     "output_type": "display_data"
    },
    {
     "data": {
      "text/html": [
       "<pre style=\"white-space:pre;overflow-x:auto;line-height:normal;font-family:Menlo,'DejaVu Sans Mono',consolas,'Courier New',monospace\"> ─ <span style=\"font-weight: bold\">Executing parsed code:</span> ──────────────────────────────────────────────────────────────────────────────────────── \n",
       "  <span style=\"color: #f8f8f2; text-decoration-color: #f8f8f2; background-color: #272822\">data_sources </span><span style=\"color: #ff4689; text-decoration-color: #ff4689; background-color: #272822\">=</span><span style=\"color: #f8f8f2; text-decoration-color: #f8f8f2; background-color: #272822\"> list_data_sources()</span><span style=\"background-color: #272822\">                                                                             </span>  \n",
       "  <span style=\"color: #f8f8f2; text-decoration-color: #f8f8f2; background-color: #272822\">print(data_sources)</span><span style=\"background-color: #272822\">                                                                                            </span>  \n",
       " ───────────────────────────────────────────────────────────────────────────────────────────────────────────────── \n",
       "</pre>\n"
      ],
      "text/plain": [
       " ─ \u001b[1mExecuting parsed code:\u001b[0m ──────────────────────────────────────────────────────────────────────────────────────── \n",
       "  \u001b[38;2;248;248;242;48;2;39;40;34mdata_sources\u001b[0m\u001b[38;2;248;248;242;48;2;39;40;34m \u001b[0m\u001b[38;2;255;70;137;48;2;39;40;34m=\u001b[0m\u001b[38;2;248;248;242;48;2;39;40;34m \u001b[0m\u001b[38;2;248;248;242;48;2;39;40;34mlist_data_sources\u001b[0m\u001b[38;2;248;248;242;48;2;39;40;34m(\u001b[0m\u001b[38;2;248;248;242;48;2;39;40;34m)\u001b[0m\u001b[48;2;39;40;34m                                                                             \u001b[0m  \n",
       "  \u001b[38;2;248;248;242;48;2;39;40;34mprint\u001b[0m\u001b[38;2;248;248;242;48;2;39;40;34m(\u001b[0m\u001b[38;2;248;248;242;48;2;39;40;34mdata_sources\u001b[0m\u001b[38;2;248;248;242;48;2;39;40;34m)\u001b[0m\u001b[48;2;39;40;34m                                                                                            \u001b[0m  \n",
       " ───────────────────────────────────────────────────────────────────────────────────────────────────────────────── \n"
      ]
     },
     "metadata": {},
     "output_type": "display_data"
    },
    {
     "data": {
      "text/html": [
       "<pre style=\"white-space:pre;overflow-x:auto;line-height:normal;font-family:Menlo,'DejaVu Sans Mono',consolas,'Courier New',monospace\"><span style=\"font-weight: bold\">Execution logs:</span>\n",
       "[{'name': 'employees', 'description': 'Employees Database', 'type': 'SQLite', 'file': 'employees.sqlite'}]\n",
       "\n",
       "Out: None\n",
       "</pre>\n"
      ],
      "text/plain": [
       "\u001b[1mExecution logs:\u001b[0m\n",
       "[{'name': 'employees', 'description': 'Employees Database', 'type': 'SQLite', 'file': 'employees.sqlite'}]\n",
       "\n",
       "Out: None\n"
      ]
     },
     "metadata": {},
     "output_type": "display_data"
    },
    {
     "data": {
      "text/html": [
       "<pre style=\"white-space:pre;overflow-x:auto;line-height:normal;font-family:Menlo,'DejaVu Sans Mono',consolas,'Courier New',monospace\"><span style=\"color: #7f7f7f; text-decoration-color: #7f7f7f\">[Step 1: Duration 4.31 seconds| Input tokens: 2,103 | Output tokens: 85]</span>\n",
       "</pre>\n"
      ],
      "text/plain": [
       "\u001b[2m[Step 1: Duration 4.31 seconds| Input tokens: 2,103 | Output tokens: 85]\u001b[0m\n"
      ]
     },
     "metadata": {},
     "output_type": "display_data"
    },
    {
     "data": {
      "text/html": [
       "<pre style=\"white-space:pre;overflow-x:auto;line-height:normal;font-family:Menlo,'DejaVu Sans Mono',consolas,'Courier New',monospace\"><span style=\"color: #d4b702; text-decoration-color: #d4b702\">━━━━━━━━━━━━━━━━━━━━━━━━━━━━━━━━━━━━━━━━━━━━━━━━━━━━━ </span><span style=\"font-weight: bold\">Step </span><span style=\"color: #008080; text-decoration-color: #008080; font-weight: bold\">2</span><span style=\"color: #d4b702; text-decoration-color: #d4b702\"> ━━━━━━━━━━━━━━━━━━━━━━━━━━━━━━━━━━━━━━━━━━━━━━━━━━━━━━</span>\n",
       "</pre>\n"
      ],
      "text/plain": [
       "\u001b[38;2;212;183;2m━━━━━━━━━━━━━━━━━━━━━━━━━━━━━━━━━━━━━━━━━━━━━━━━━━━━━ \u001b[0m\u001b[1mStep \u001b[0m\u001b[1;36m2\u001b[0m\u001b[38;2;212;183;2m ━━━━━━━━━━━━━━━━━━━━━━━━━━━━━━━━━━━━━━━━━━━━━━━━━━━━━━\u001b[0m\n"
      ]
     },
     "metadata": {},
     "output_type": "display_data"
    },
    {
     "data": {
      "text/html": [
       "<pre style=\"white-space:pre;overflow-x:auto;line-height:normal;font-family:Menlo,'DejaVu Sans Mono',consolas,'Courier New',monospace\"> ─ <span style=\"font-weight: bold\">Executing parsed code:</span> ──────────────────────────────────────────────────────────────────────────────────────── \n",
       "  <span style=\"color: #f8f8f2; text-decoration-color: #f8f8f2; background-color: #272822\">schema </span><span style=\"color: #ff4689; text-decoration-color: #ff4689; background-color: #272822\">=</span><span style=\"color: #f8f8f2; text-decoration-color: #f8f8f2; background-color: #272822\"> sqlite_get_schema(data_source_name</span><span style=\"color: #ff4689; text-decoration-color: #ff4689; background-color: #272822\">=</span><span style=\"color: #e6db74; text-decoration-color: #e6db74; background-color: #272822\">\"employees\"</span><span style=\"color: #f8f8f2; text-decoration-color: #f8f8f2; background-color: #272822\">)</span><span style=\"background-color: #272822\">                                                       </span>  \n",
       "  <span style=\"color: #f8f8f2; text-decoration-color: #f8f8f2; background-color: #272822\">print(schema)</span><span style=\"background-color: #272822\">                                                                                                  </span>  \n",
       " ───────────────────────────────────────────────────────────────────────────────────────────────────────────────── \n",
       "</pre>\n"
      ],
      "text/plain": [
       " ─ \u001b[1mExecuting parsed code:\u001b[0m ──────────────────────────────────────────────────────────────────────────────────────── \n",
       "  \u001b[38;2;248;248;242;48;2;39;40;34mschema\u001b[0m\u001b[38;2;248;248;242;48;2;39;40;34m \u001b[0m\u001b[38;2;255;70;137;48;2;39;40;34m=\u001b[0m\u001b[38;2;248;248;242;48;2;39;40;34m \u001b[0m\u001b[38;2;248;248;242;48;2;39;40;34msqlite_get_schema\u001b[0m\u001b[38;2;248;248;242;48;2;39;40;34m(\u001b[0m\u001b[38;2;248;248;242;48;2;39;40;34mdata_source_name\u001b[0m\u001b[38;2;255;70;137;48;2;39;40;34m=\u001b[0m\u001b[38;2;230;219;116;48;2;39;40;34m\"\u001b[0m\u001b[38;2;230;219;116;48;2;39;40;34memployees\u001b[0m\u001b[38;2;230;219;116;48;2;39;40;34m\"\u001b[0m\u001b[38;2;248;248;242;48;2;39;40;34m)\u001b[0m\u001b[48;2;39;40;34m                                                       \u001b[0m  \n",
       "  \u001b[38;2;248;248;242;48;2;39;40;34mprint\u001b[0m\u001b[38;2;248;248;242;48;2;39;40;34m(\u001b[0m\u001b[38;2;248;248;242;48;2;39;40;34mschema\u001b[0m\u001b[38;2;248;248;242;48;2;39;40;34m)\u001b[0m\u001b[48;2;39;40;34m                                                                                                  \u001b[0m  \n",
       " ───────────────────────────────────────────────────────────────────────────────────────────────────────────────── \n"
      ]
     },
     "metadata": {},
     "output_type": "display_data"
    },
    {
     "data": {
      "text/html": [
       "<pre style=\"white-space:pre;overflow-x:auto;line-height:normal;font-family:Menlo,'DejaVu Sans Mono',consolas,'Courier New',monospace\"><span style=\"font-weight: bold\">Execution logs:</span>\n",
       "-- Tables\n",
       "CREATE TABLE department (\n",
       "    dept_no     TEXT            NOT NULL,\n",
       "    dept_name   TEXT            NOT NULL,\n",
       "    PRIMARY KEY (dept_no),\n",
       "    UNIQUE      (dept_name)\n",
       ");\n",
       "CREATE TABLE dept_emp (\n",
       "    emp_no      INTEGER         NOT NULL,\n",
       "    dept_no     TEXT            NOT NULL,\n",
       "    from_date   DATE            NOT NULL,\n",
       "    to_date     DATE            NOT NULL,\n",
       "    FOREIGN KEY (emp_no)  REFERENCES employee (emp_no)   ON DELETE CASCADE,\n",
       "    FOREIGN KEY (dept_no) REFERENCES department (dept_no) ON DELETE CASCADE,\n",
       "    PRIMARY KEY (emp_no,dept_no)\n",
       ");\n",
       "CREATE TABLE dept_manager (\n",
       "   emp_no       INTEGER         NOT NULL,\n",
       "   dept_no      TEXT            NOT NULL,\n",
       "   from_date    DATE            NOT NULL,\n",
       "   to_date      DATE            NOT NULL,\n",
       "   FOREIGN KEY (emp_no)  REFERENCES employee (emp_no)    ON DELETE CASCADE,\n",
       "   FOREIGN KEY (dept_no) REFERENCES department (dept_no) ON DELETE CASCADE,\n",
       "   PRIMARY KEY (emp_no,dept_no)\n",
       ");\n",
       "CREATE TABLE employee (\n",
       "    emp_no      INTEGER         NOT NULL,\n",
       "    birth_date  DATE            NOT NULL,\n",
       "    first_name  TEXT            NOT NULL,\n",
       "    last_name   TEXT            NOT NULL,\n",
       "    gender      TEXT            NOT NULL CHECK (gender IN ('M','F')),\n",
       "    hire_date   DATE            NOT NULL,\n",
       "    PRIMARY KEY (emp_no)\n",
       ");\n",
       "CREATE TABLE expected_value (\n",
       "    table_name TEXT NOT NULL PRIMARY KEY,\n",
       "    recs INTEGER NOT NULL,\n",
       "    crc_md5 TEXT NOT NULL\n",
       ");\n",
       "CREATE TABLE found_value (\n",
       "    table_name TEXT NOT NULL PRIMARY KEY,\n",
       "    recs INTEGER NOT NULL,\n",
       "    crc_md5 TEXT NOT NULL\n",
       ");\n",
       "CREATE TABLE salary (\n",
       "    emp_no      INTEGER         NOT NULL,\n",
       "    amount      INTEGER         NOT NULL,\n",
       "    from_date   DATE            NOT NULL,\n",
       "    to_date     DATE            NOT NULL,\n",
       "    FOREIGN KEY (emp_no) REFERENCES employee (emp_no) ON DELETE CASCADE,\n",
       "    PRIMARY KEY (emp_no,from_date)\n",
       ");\n",
       "CREATE TABLE tchecksum (chk TEXT);\n",
       "CREATE TABLE title (\n",
       "    emp_no      INTEGER         NOT NULL,\n",
       "    title       TEXT            NOT NULL,\n",
       "    from_date   DATE            NOT NULL,\n",
       "    to_date     DATE,\n",
       "    FOREIGN KEY (emp_no) REFERENCES employee (emp_no) ON DELETE CASCADE,\n",
       "    PRIMARY KEY (emp_no,title,from_date)\n",
       ");\n",
       "\n",
       "-- Views\n",
       "CREATE VIEW current_dept_emp AS\n",
       "    SELECT l.emp_no, dept_no, l.from_date, l.to_date\n",
       "    FROM dept_emp d\n",
       "        INNER JOIN dept_emp_latest_date l\n",
       "        ON d.emp_no=l.emp_no AND d.from_date=l.from_date AND l.to_date = d.to_date;\n",
       "CREATE VIEW dept_emp_latest_date AS\n",
       "    SELECT emp_no, MAX(from_date) AS from_date, MAX(to_date) AS to_date\n",
       "    FROM dept_emp\n",
       "    GROUP BY emp_no;\n",
       "\n",
       "Out: None\n",
       "</pre>\n"
      ],
      "text/plain": [
       "\u001b[1mExecution logs:\u001b[0m\n",
       "-- Tables\n",
       "CREATE TABLE department (\n",
       "    dept_no     TEXT            NOT NULL,\n",
       "    dept_name   TEXT            NOT NULL,\n",
       "    PRIMARY KEY (dept_no),\n",
       "    UNIQUE      (dept_name)\n",
       ");\n",
       "CREATE TABLE dept_emp (\n",
       "    emp_no      INTEGER         NOT NULL,\n",
       "    dept_no     TEXT            NOT NULL,\n",
       "    from_date   DATE            NOT NULL,\n",
       "    to_date     DATE            NOT NULL,\n",
       "    FOREIGN KEY (emp_no)  REFERENCES employee (emp_no)   ON DELETE CASCADE,\n",
       "    FOREIGN KEY (dept_no) REFERENCES department (dept_no) ON DELETE CASCADE,\n",
       "    PRIMARY KEY (emp_no,dept_no)\n",
       ");\n",
       "CREATE TABLE dept_manager (\n",
       "   emp_no       INTEGER         NOT NULL,\n",
       "   dept_no      TEXT            NOT NULL,\n",
       "   from_date    DATE            NOT NULL,\n",
       "   to_date      DATE            NOT NULL,\n",
       "   FOREIGN KEY (emp_no)  REFERENCES employee (emp_no)    ON DELETE CASCADE,\n",
       "   FOREIGN KEY (dept_no) REFERENCES department (dept_no) ON DELETE CASCADE,\n",
       "   PRIMARY KEY (emp_no,dept_no)\n",
       ");\n",
       "CREATE TABLE employee (\n",
       "    emp_no      INTEGER         NOT NULL,\n",
       "    birth_date  DATE            NOT NULL,\n",
       "    first_name  TEXT            NOT NULL,\n",
       "    last_name   TEXT            NOT NULL,\n",
       "    gender      TEXT            NOT NULL CHECK (gender IN ('M','F')),\n",
       "    hire_date   DATE            NOT NULL,\n",
       "    PRIMARY KEY (emp_no)\n",
       ");\n",
       "CREATE TABLE expected_value (\n",
       "    table_name TEXT NOT NULL PRIMARY KEY,\n",
       "    recs INTEGER NOT NULL,\n",
       "    crc_md5 TEXT NOT NULL\n",
       ");\n",
       "CREATE TABLE found_value (\n",
       "    table_name TEXT NOT NULL PRIMARY KEY,\n",
       "    recs INTEGER NOT NULL,\n",
       "    crc_md5 TEXT NOT NULL\n",
       ");\n",
       "CREATE TABLE salary (\n",
       "    emp_no      INTEGER         NOT NULL,\n",
       "    amount      INTEGER         NOT NULL,\n",
       "    from_date   DATE            NOT NULL,\n",
       "    to_date     DATE            NOT NULL,\n",
       "    FOREIGN KEY (emp_no) REFERENCES employee (emp_no) ON DELETE CASCADE,\n",
       "    PRIMARY KEY (emp_no,from_date)\n",
       ");\n",
       "CREATE TABLE tchecksum (chk TEXT);\n",
       "CREATE TABLE title (\n",
       "    emp_no      INTEGER         NOT NULL,\n",
       "    title       TEXT            NOT NULL,\n",
       "    from_date   DATE            NOT NULL,\n",
       "    to_date     DATE,\n",
       "    FOREIGN KEY (emp_no) REFERENCES employee (emp_no) ON DELETE CASCADE,\n",
       "    PRIMARY KEY (emp_no,title,from_date)\n",
       ");\n",
       "\n",
       "-- Views\n",
       "CREATE VIEW current_dept_emp AS\n",
       "    SELECT l.emp_no, dept_no, l.from_date, l.to_date\n",
       "    FROM dept_emp d\n",
       "        INNER JOIN dept_emp_latest_date l\n",
       "        ON d.emp_no=l.emp_no AND d.from_date=l.from_date AND l.to_date = d.to_date;\n",
       "CREATE VIEW dept_emp_latest_date AS\n",
       "    SELECT emp_no, MAX(from_date) AS from_date, MAX(to_date) AS to_date\n",
       "    FROM dept_emp\n",
       "    GROUP BY emp_no;\n",
       "\n",
       "Out: None\n"
      ]
     },
     "metadata": {},
     "output_type": "display_data"
    },
    {
     "data": {
      "text/html": [
       "<pre style=\"white-space:pre;overflow-x:auto;line-height:normal;font-family:Menlo,'DejaVu Sans Mono',consolas,'Courier New',monospace\"><span style=\"color: #7f7f7f; text-decoration-color: #7f7f7f\">[Step 2: Duration 1.54 seconds| Input tokens: 4,386 | Output tokens: 157]</span>\n",
       "</pre>\n"
      ],
      "text/plain": [
       "\u001b[2m[Step 2: Duration 1.54 seconds| Input tokens: 4,386 | Output tokens: 157]\u001b[0m\n"
      ]
     },
     "metadata": {},
     "output_type": "display_data"
    },
    {
     "data": {
      "text/html": [
       "<pre style=\"white-space:pre;overflow-x:auto;line-height:normal;font-family:Menlo,'DejaVu Sans Mono',consolas,'Courier New',monospace\"><span style=\"color: #d4b702; text-decoration-color: #d4b702\">━━━━━━━━━━━━━━━━━━━━━━━━━━━━━━━━━━━━━━━━━━━━━━━━━━━━━ </span><span style=\"font-weight: bold\">Step </span><span style=\"color: #008080; text-decoration-color: #008080; font-weight: bold\">3</span><span style=\"color: #d4b702; text-decoration-color: #d4b702\"> ━━━━━━━━━━━━━━━━━━━━━━━━━━━━━━━━━━━━━━━━━━━━━━━━━━━━━━</span>\n",
       "</pre>\n"
      ],
      "text/plain": [
       "\u001b[38;2;212;183;2m━━━━━━━━━━━━━━━━━━━━━━━━━━━━━━━━━━━━━━━━━━━━━━━━━━━━━ \u001b[0m\u001b[1mStep \u001b[0m\u001b[1;36m3\u001b[0m\u001b[38;2;212;183;2m ━━━━━━━━━━━━━━━━━━━━━━━━━━━━━━━━━━━━━━━━━━━━━━━━━━━━━━\u001b[0m\n"
      ]
     },
     "metadata": {},
     "output_type": "display_data"
    },
    {
     "data": {
      "text/html": [
       "<pre style=\"white-space:pre;overflow-x:auto;line-height:normal;font-family:Menlo,'DejaVu Sans Mono',consolas,'Courier New',monospace\"> ─ <span style=\"font-weight: bold\">Executing parsed code:</span> ──────────────────────────────────────────────────────────────────────────────────────── \n",
       "  <span style=\"color: #f8f8f2; text-decoration-color: #f8f8f2; background-color: #272822\">query </span><span style=\"color: #ff4689; text-decoration-color: #ff4689; background-color: #272822\">=</span><span style=\"color: #f8f8f2; text-decoration-color: #f8f8f2; background-color: #272822\"> </span><span style=\"color: #e6db74; text-decoration-color: #e6db74; background-color: #272822\">\"\"\"</span><span style=\"background-color: #272822\">                                                                                                    </span>  \n",
       "  <span style=\"color: #e6db74; text-decoration-color: #e6db74; background-color: #272822\">SELECT d.dept_name, COUNT(e.emp_no) AS num_employees</span><span style=\"background-color: #272822\">                                                           </span>  \n",
       "  <span style=\"color: #e6db74; text-decoration-color: #e6db74; background-color: #272822\">FROM current_dept_emp e</span><span style=\"background-color: #272822\">                                                                                        </span>  \n",
       "  <span style=\"color: #e6db74; text-decoration-color: #e6db74; background-color: #272822\">JOIN department d ON e.dept_no = d.dept_no</span><span style=\"background-color: #272822\">                                                                     </span>  \n",
       "  <span style=\"color: #e6db74; text-decoration-color: #e6db74; background-color: #272822\">GROUP BY d.dept_no</span><span style=\"background-color: #272822\">                                                                                             </span>  \n",
       "  <span style=\"color: #e6db74; text-decoration-color: #e6db74; background-color: #272822\">ORDER BY num_employees DESC</span><span style=\"background-color: #272822\">                                                                                    </span>  \n",
       "  <span style=\"color: #e6db74; text-decoration-color: #e6db74; background-color: #272822\">LIMIT 1;</span><span style=\"background-color: #272822\">                                                                                                       </span>  \n",
       "  <span style=\"color: #e6db74; text-decoration-color: #e6db74; background-color: #272822\">\"\"\"</span><span style=\"background-color: #272822\">                                                                                                            </span>  \n",
       "  <span style=\"background-color: #272822\">                                                                                                               </span>  \n",
       "  <span style=\"color: #f8f8f2; text-decoration-color: #f8f8f2; background-color: #272822\">result </span><span style=\"color: #ff4689; text-decoration-color: #ff4689; background-color: #272822\">=</span><span style=\"color: #f8f8f2; text-decoration-color: #f8f8f2; background-color: #272822\"> sqlite_query(data_source_name</span><span style=\"color: #ff4689; text-decoration-color: #ff4689; background-color: #272822\">=</span><span style=\"color: #e6db74; text-decoration-color: #e6db74; background-color: #272822\">\"employees\"</span><span style=\"color: #f8f8f2; text-decoration-color: #f8f8f2; background-color: #272822\">, sql_query</span><span style=\"color: #ff4689; text-decoration-color: #ff4689; background-color: #272822\">=</span><span style=\"color: #f8f8f2; text-decoration-color: #f8f8f2; background-color: #272822\">query)</span><span style=\"background-color: #272822\">                                           </span>  \n",
       "  <span style=\"color: #f8f8f2; text-decoration-color: #f8f8f2; background-color: #272822\">print(result)</span><span style=\"background-color: #272822\">                                                                                                  </span>  \n",
       " ───────────────────────────────────────────────────────────────────────────────────────────────────────────────── \n",
       "</pre>\n"
      ],
      "text/plain": [
       " ─ \u001b[1mExecuting parsed code:\u001b[0m ──────────────────────────────────────────────────────────────────────────────────────── \n",
       "  \u001b[38;2;248;248;242;48;2;39;40;34mquery\u001b[0m\u001b[38;2;248;248;242;48;2;39;40;34m \u001b[0m\u001b[38;2;255;70;137;48;2;39;40;34m=\u001b[0m\u001b[38;2;248;248;242;48;2;39;40;34m \u001b[0m\u001b[38;2;230;219;116;48;2;39;40;34m\"\"\"\u001b[0m\u001b[48;2;39;40;34m                                                                                                    \u001b[0m  \n",
       "  \u001b[38;2;230;219;116;48;2;39;40;34mSELECT d.dept_name, COUNT(e.emp_no) AS num_employees\u001b[0m\u001b[48;2;39;40;34m                                                           \u001b[0m  \n",
       "  \u001b[38;2;230;219;116;48;2;39;40;34mFROM current_dept_emp e\u001b[0m\u001b[48;2;39;40;34m                                                                                        \u001b[0m  \n",
       "  \u001b[38;2;230;219;116;48;2;39;40;34mJOIN department d ON e.dept_no = d.dept_no\u001b[0m\u001b[48;2;39;40;34m                                                                     \u001b[0m  \n",
       "  \u001b[38;2;230;219;116;48;2;39;40;34mGROUP BY d.dept_no\u001b[0m\u001b[48;2;39;40;34m                                                                                             \u001b[0m  \n",
       "  \u001b[38;2;230;219;116;48;2;39;40;34mORDER BY num_employees DESC\u001b[0m\u001b[48;2;39;40;34m                                                                                    \u001b[0m  \n",
       "  \u001b[38;2;230;219;116;48;2;39;40;34mLIMIT 1;\u001b[0m\u001b[48;2;39;40;34m                                                                                                       \u001b[0m  \n",
       "  \u001b[38;2;230;219;116;48;2;39;40;34m\"\"\"\u001b[0m\u001b[48;2;39;40;34m                                                                                                            \u001b[0m  \n",
       "  \u001b[48;2;39;40;34m                                                                                                               \u001b[0m  \n",
       "  \u001b[38;2;248;248;242;48;2;39;40;34mresult\u001b[0m\u001b[38;2;248;248;242;48;2;39;40;34m \u001b[0m\u001b[38;2;255;70;137;48;2;39;40;34m=\u001b[0m\u001b[38;2;248;248;242;48;2;39;40;34m \u001b[0m\u001b[38;2;248;248;242;48;2;39;40;34msqlite_query\u001b[0m\u001b[38;2;248;248;242;48;2;39;40;34m(\u001b[0m\u001b[38;2;248;248;242;48;2;39;40;34mdata_source_name\u001b[0m\u001b[38;2;255;70;137;48;2;39;40;34m=\u001b[0m\u001b[38;2;230;219;116;48;2;39;40;34m\"\u001b[0m\u001b[38;2;230;219;116;48;2;39;40;34memployees\u001b[0m\u001b[38;2;230;219;116;48;2;39;40;34m\"\u001b[0m\u001b[38;2;248;248;242;48;2;39;40;34m,\u001b[0m\u001b[38;2;248;248;242;48;2;39;40;34m \u001b[0m\u001b[38;2;248;248;242;48;2;39;40;34msql_query\u001b[0m\u001b[38;2;255;70;137;48;2;39;40;34m=\u001b[0m\u001b[38;2;248;248;242;48;2;39;40;34mquery\u001b[0m\u001b[38;2;248;248;242;48;2;39;40;34m)\u001b[0m\u001b[48;2;39;40;34m                                           \u001b[0m  \n",
       "  \u001b[38;2;248;248;242;48;2;39;40;34mprint\u001b[0m\u001b[38;2;248;248;242;48;2;39;40;34m(\u001b[0m\u001b[38;2;248;248;242;48;2;39;40;34mresult\u001b[0m\u001b[38;2;248;248;242;48;2;39;40;34m)\u001b[0m\u001b[48;2;39;40;34m                                                                                                  \u001b[0m  \n",
       " ───────────────────────────────────────────────────────────────────────────────────────────────────────────────── \n"
      ]
     },
     "metadata": {},
     "output_type": "display_data"
    },
    {
     "data": {
      "text/html": [
       "<pre style=\"white-space:pre;overflow-x:auto;line-height:normal;font-family:Menlo,'DejaVu Sans Mono',consolas,'Courier New',monospace\"><span style=\"font-weight: bold\">Execution logs:</span>\n",
       "dept_name | num_employees\n",
       "-------------------------\n",
       "Development | 251\n",
       "\n",
       "Out: None\n",
       "</pre>\n"
      ],
      "text/plain": [
       "\u001b[1mExecution logs:\u001b[0m\n",
       "dept_name | num_employees\n",
       "-------------------------\n",
       "Development | 251\n",
       "\n",
       "Out: None\n"
      ]
     },
     "metadata": {},
     "output_type": "display_data"
    },
    {
     "data": {
      "text/html": [
       "<pre style=\"white-space:pre;overflow-x:auto;line-height:normal;font-family:Menlo,'DejaVu Sans Mono',consolas,'Courier New',monospace\"><span style=\"color: #7f7f7f; text-decoration-color: #7f7f7f\">[Step 3: Duration 4.19 seconds| Input tokens: 7,414 | Output tokens: 332]</span>\n",
       "</pre>\n"
      ],
      "text/plain": [
       "\u001b[2m[Step 3: Duration 4.19 seconds| Input tokens: 7,414 | Output tokens: 332]\u001b[0m\n"
      ]
     },
     "metadata": {},
     "output_type": "display_data"
    },
    {
     "data": {
      "text/html": [
       "<pre style=\"white-space:pre;overflow-x:auto;line-height:normal;font-family:Menlo,'DejaVu Sans Mono',consolas,'Courier New',monospace\"><span style=\"color: #d4b702; text-decoration-color: #d4b702\">━━━━━━━━━━━━━━━━━━━━━━━━━━━━━━━━━━━━━━━━━━━━━━━━━━━━━ </span><span style=\"font-weight: bold\">Step </span><span style=\"color: #008080; text-decoration-color: #008080; font-weight: bold\">4</span><span style=\"color: #d4b702; text-decoration-color: #d4b702\"> ━━━━━━━━━━━━━━━━━━━━━━━━━━━━━━━━━━━━━━━━━━━━━━━━━━━━━━</span>\n",
       "</pre>\n"
      ],
      "text/plain": [
       "\u001b[38;2;212;183;2m━━━━━━━━━━━━━━━━━━━━━━━━━━━━━━━━━━━━━━━━━━━━━━━━━━━━━ \u001b[0m\u001b[1mStep \u001b[0m\u001b[1;36m4\u001b[0m\u001b[38;2;212;183;2m ━━━━━━━━━━━━━━━━━━━━━━━━━━━━━━━━━━━━━━━━━━━━━━━━━━━━━━\u001b[0m\n"
      ]
     },
     "metadata": {},
     "output_type": "display_data"
    },
    {
     "data": {
      "text/html": [
       "<pre style=\"white-space:pre;overflow-x:auto;line-height:normal;font-family:Menlo,'DejaVu Sans Mono',consolas,'Courier New',monospace\"> ─ <span style=\"font-weight: bold\">Executing parsed code:</span> ──────────────────────────────────────────────────────────────────────────────────────── \n",
       "  <span style=\"color: #f8f8f2; text-decoration-color: #f8f8f2; background-color: #272822\">final_answer(</span><span style=\"color: #e6db74; text-decoration-color: #e6db74; background-color: #272822\">\"Development\"</span><span style=\"color: #f8f8f2; text-decoration-color: #f8f8f2; background-color: #272822\">)</span><span style=\"background-color: #272822\">                                                                                    </span>  \n",
       " ───────────────────────────────────────────────────────────────────────────────────────────────────────────────── \n",
       "</pre>\n"
      ],
      "text/plain": [
       " ─ \u001b[1mExecuting parsed code:\u001b[0m ──────────────────────────────────────────────────────────────────────────────────────── \n",
       "  \u001b[38;2;248;248;242;48;2;39;40;34mfinal_answer\u001b[0m\u001b[38;2;248;248;242;48;2;39;40;34m(\u001b[0m\u001b[38;2;230;219;116;48;2;39;40;34m\"\u001b[0m\u001b[38;2;230;219;116;48;2;39;40;34mDevelopment\u001b[0m\u001b[38;2;230;219;116;48;2;39;40;34m\"\u001b[0m\u001b[38;2;248;248;242;48;2;39;40;34m)\u001b[0m\u001b[48;2;39;40;34m                                                                                    \u001b[0m  \n",
       " ───────────────────────────────────────────────────────────────────────────────────────────────────────────────── \n"
      ]
     },
     "metadata": {},
     "output_type": "display_data"
    },
    {
     "data": {
      "text/html": [
       "<pre style=\"white-space:pre;overflow-x:auto;line-height:normal;font-family:Menlo,'DejaVu Sans Mono',consolas,'Courier New',monospace\"><span style=\"color: #d4b702; text-decoration-color: #d4b702; font-weight: bold\">Out - Final answer: Development</span>\n",
       "</pre>\n"
      ],
      "text/plain": [
       "\u001b[1;38;2;212;183;2mOut - Final answer: Development\u001b[0m\n"
      ]
     },
     "metadata": {},
     "output_type": "display_data"
    },
    {
     "data": {
      "text/html": [
       "<pre style=\"white-space:pre;overflow-x:auto;line-height:normal;font-family:Menlo,'DejaVu Sans Mono',consolas,'Courier New',monospace\"><span style=\"color: #7f7f7f; text-decoration-color: #7f7f7f\">[Step 4: Duration 1.63 seconds| Input tokens: 10,769 | Output tokens: 376]</span>\n",
       "</pre>\n"
      ],
      "text/plain": [
       "\u001b[2m[Step 4: Duration 1.63 seconds| Input tokens: 10,769 | Output tokens: 376]\u001b[0m\n"
      ]
     },
     "metadata": {},
     "output_type": "display_data"
    }
   ],
   "source": [
    "final_answer = agent.run(\"Which department has the highest number of employees?\")"
   ]
  },
  {
   "cell_type": "markdown",
   "id": "596ff03a",
   "metadata": {},
   "source": [
    "### Running questions from evals.py"
   ]
  },
  {
   "cell_type": "code",
   "execution_count": 8,
   "id": "7f26c7e6",
   "metadata": {},
   "outputs": [
    {
     "data": {
      "application/vnd.jupyter.widget-view+json": {
       "model_id": "cd79ba8c8acb4971a69fad82bfbb6531",
       "version_major": 2,
       "version_minor": 0
      },
      "text/plain": [
       "  0%|          | 0/2 [00:00<?, ?it/s]"
      ]
     },
     "metadata": {},
     "output_type": "display_data"
    },
    {
     "name": "stdout",
     "output_type": "stream",
     "text": [
      "Question: Who is the most paid employee? Return only the name of the emploeyee.\n",
      "Agent's answer: Arno Kumaresan\n",
      "Expected answer: Arno Kumaresan\n",
      "Number of performed action steps: 4\n",
      "Number of optimal action steps: 4\n",
      "Reward: 1.000\n",
      "\n",
      "Question: Which department has the highest number of employees?\n",
      "Agent's answer: Development\n",
      "Expected answer: Development\n",
      "Number of performed action steps: 4\n",
      "Number of optimal action steps: 4\n",
      "Reward: 1.000\n",
      "\n"
     ]
    }
   ],
   "source": [
    "from smolagents.monitoring import LogLevel\n",
    "from tqdm.auto import tqdm\n",
    "from reward import compute_reward\n",
    "from evals import evals_dataset\n",
    "\n",
    "silent_agent = CodeAgent(\n",
    "    model=model,\n",
    "    tools=[tools.list_data_sources, tools.describe_data_source, tools.sqlite_get_schema, tools.sqlite_query],\n",
    "    verbosity_level=LogLevel.ERROR\n",
    ")\n",
    "\n",
    "for item in tqdm(evals_dataset):\n",
    "\n",
    "    final_answer = silent_agent.run(item['question'])\n",
    "    n_actions = count_action_steps(agent)\n",
    "    reward = compute_reward(final_answer, item['answer'], n_actions, item['optimal_actions'])\n",
    "\n",
    "    print(f\"Question: {item['question']}\")\n",
    "    print(f\"Agent's answer: {final_answer}\")\n",
    "    print(f\"Expected answer: {item['answer']}\")\n",
    "    print(f\"Number of performed action steps: {n_actions}\")\n",
    "    print(f\"Number of optimal action steps: {item['optimal_actions']}\")\n",
    "    print(f\"Reward: {reward:.3f}\\n\")"
   ]
  }
 ],
 "metadata": {
  "kernelspec": {
   "display_name": ".venv",
   "language": "python",
   "name": "python3"
  },
  "language_info": {
   "codemirror_mode": {
    "name": "ipython",
    "version": 3
   },
   "file_extension": ".py",
   "mimetype": "text/x-python",
   "name": "python",
   "nbconvert_exporter": "python",
   "pygments_lexer": "ipython3",
   "version": "3.12.11"
  }
 },
 "nbformat": 4,
 "nbformat_minor": 5
}
